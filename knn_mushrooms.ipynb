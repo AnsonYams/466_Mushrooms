{
 "cells": [
  {
   "cell_type": "code",
   "execution_count": null,
   "metadata": {},
   "outputs": [
    {
     "name": "stderr",
     "output_type": "stream",
     "text": [
      "C:\\Users\\Anson\\AppData\\Local\\Temp\\ipykernel_47932\\4227271849.py:1: DeprecationWarning: \n",
      "Pyarrow will become a required dependency of pandas in the next major release of pandas (pandas 3.0),\n",
      "(to allow more performant data types, such as the Arrow string type, and better interoperability with other libraries)\n",
      "but was not found to be installed on your system.\n",
      "If this would cause problems for you,\n",
      "please provide us feedback at https://github.com/pandas-dev/pandas/issues/54466\n",
      "        \n",
      "  import pandas as pd\n",
      "C:\\Users\\Anson\\AppData\\Local\\Temp\\ipykernel_47932\\4227271849.py:17: SettingWithCopyWarning: \n",
      "A value is trying to be set on a copy of a slice from a DataFrame\n",
      "\n",
      "See the caveats in the documentation: https://pandas.pydata.org/pandas-docs/stable/user_guide/indexing.html#returning-a-view-versus-a-copy\n",
      "  features.dropna(inplace=True)\n"
     ]
    }
   ],
   "source": [
    "import pandas as pd\n",
    "from sklearn.compose import make_column_transformer\n",
    "from sklearn.preprocessing import OneHotEncoder\n",
    "from sklearn.neighbors import KNeighborsClassifier\n",
    "from sklearn.pipeline import make_pipeline\n",
    "from sklearn.model_selection import train_test_split\n",
    "from ucimlrepo import fetch_ucirepo \n",
    "from sklearn.metrics import f1_score\n",
    "from sklearn.metrics import accuracy_score\n",
    "from sklearn.metrics import log_loss\n",
    "  \n",
    "df = fetch_ucirepo(id=73) \n",
    "# data (as pandas dataframes) \n",
    "features = df.data.features \n",
    "targets = df.data.targets \n",
    "\n",
    "features.dropna(inplace=True)\n",
    "\n",
    "targets = targets[targets.index.isin(features.index)]\n",
    "\n",
    "trainingdata, testdata, traininglabels, testlabels = train_test_split(features, targets, test_size=0.2, random_state=42)"
   ]
  },
  {
   "cell_type": "markdown",
   "metadata": {},
   "source": [
    "Individual Category Features"
   ]
  },
  {
   "cell_type": "markdown",
   "metadata": {},
   "source": [
    "Model #1: All Mushroom Cap Features"
   ]
  },
  {
   "cell_type": "code",
   "execution_count": 2,
   "metadata": {},
   "outputs": [
    {
     "name": "stdout",
     "output_type": "stream",
     "text": [
      "R2 Score: 0.7360496014171833\n",
      "F1 Score: 0.7936288088642659\n",
      "Log Loss: 9.513736678438361\n"
     ]
    }
   ],
   "source": [
    "# Optimal K value usually found is the square root of N, where N is the total number of samples\n",
    "k = int(len(targets.index)**.5)\n",
    "#Pipeline to standarize data \n",
    "pipeline = make_pipeline(\n",
    "    OneHotEncoder(),\n",
    "    KNeighborsClassifier(n_neighbors=k)\n",
    ")\n",
    "\n",
    "#Map 'e' and 'p' to 0 and 1\n",
    "y_test = traininglabels['poisonous'].map({'e':1, 'p':0})\n",
    "Y_test = testlabels['poisonous'].map({'e': 1, 'p': 0})\n",
    "\n",
    "\n",
    "#Train Model\n",
    "pipeline.fit(X=trainingdata[[\"cap-shape\", \"cap-surface\", 'cap-color']], y=y_test)\n",
    "#Test Model\n",
    "print('R2 Score: ' + str(pipeline.score(X=testdata[['cap-shape', 'cap-surface', 'cap-color']], y=Y_test)))\n",
    "print('F1 Score: ' + str(f1_score(Y_test, pipeline.predict(testdata[['cap-shape', 'cap-surface', 'cap-color']]))))\n",
    "print('Log Loss: ' + str(log_loss(Y_test, pipeline.predict(testdata[['cap-shape', 'cap-surface', 'cap-color']]))))"
   ]
  },
  {
   "cell_type": "markdown",
   "metadata": {},
   "source": [
    "Model #2: All Gill Features"
   ]
  },
  {
   "cell_type": "code",
   "execution_count": 3,
   "metadata": {},
   "outputs": [
    {
     "name": "stdout",
     "output_type": "stream",
     "text": [
      "R2 Score: 0.8210806023029229\n",
      "F1 Score: 0.8426791277258567\n",
      "Log Loss: 6.448908755183051\n"
     ]
    }
   ],
   "source": [
    "#Train Model\n",
    "pipeline.fit(X=trainingdata[[\"gill-attachment\", \"gill-spacing\", 'gill-size', 'gill-color']], y=y_test)\n",
    "\n",
    "#Test Model\n",
    "print('R2 Score: ' + str(pipeline.score(X=testdata[[\"gill-attachment\", \"gill-spacing\", 'gill-size', 'gill-color']], y=Y_test)))\n",
    "print('F1 Score: ' + str(f1_score(Y_test, pipeline.predict(testdata[[\"gill-attachment\", \"gill-spacing\", 'gill-size', 'gill-color']]))))\n",
    "print('Log Loss: ' + str(log_loss(Y_test, pipeline.predict(testdata[[\"gill-attachment\", \"gill-spacing\", 'gill-size', 'gill-color']]))))"
   ]
  },
  {
   "cell_type": "markdown",
   "metadata": {},
   "source": [
    "Model 3: All Stalk Features"
   ]
  },
  {
   "cell_type": "code",
   "execution_count": 4,
   "metadata": {},
   "outputs": [
    {
     "name": "stdout",
     "output_type": "stream",
     "text": [
      "R2 Score: 0.9433126660761736\n",
      "F1 Score: 0.9536903039073806\n",
      "Log Loss: 2.043218615503541\n"
     ]
    }
   ],
   "source": [
    "#Train Model\n",
    "pipeline.fit(X=trainingdata[[\"stalk-shape\", \"stalk-root\", 'stalk-surface-above-ring', 'stalk-surface-below-ring', 'stalk-color-above-ring', 'stalk-color-below-ring']], y=y_test)\n",
    "\n",
    "#Test Model\n",
    "print('R2 Score: ' + str(pipeline.score(X=testdata[[\"stalk-shape\", \"stalk-root\", 'stalk-surface-above-ring', 'stalk-surface-below-ring', 'stalk-color-above-ring', 'stalk-color-below-ring']], y=Y_test)))\n",
    "print('F1 Score: ' + str(f1_score(Y_test, pipeline.predict(testdata[[\"stalk-shape\", \"stalk-root\", 'stalk-surface-above-ring', 'stalk-surface-below-ring', 'stalk-color-above-ring', 'stalk-color-below-ring']]))))\n",
    "print('Log Loss: ' + str(log_loss(Y_test, pipeline.predict(testdata[[\"stalk-shape\", \"stalk-root\", 'stalk-surface-above-ring', 'stalk-surface-below-ring', 'stalk-color-above-ring', 'stalk-color-below-ring']]))))"
   ]
  },
  {
   "cell_type": "markdown",
   "metadata": {},
   "source": [
    "Model 4: Veil Features"
   ]
  },
  {
   "cell_type": "code",
   "execution_count": 5,
   "metadata": {},
   "outputs": [
    {
     "name": "stdout",
     "output_type": "stream",
     "text": [
      "R2 Score: 0.6244464127546502\n",
      "F1 Score: 0.7688113413304253\n",
      "Log Loss: 13.53632332771096\n"
     ]
    }
   ],
   "source": [
    "#Train Model\n",
    "pipeline.fit(X=trainingdata[[\"veil-type\", \"veil-color\"]], y=y_test)\n",
    "\n",
    "#Test Model\n",
    "print('R2 Score: ' + str(pipeline.score(X=testdata[[\"veil-type\", \"veil-color\"]], y=Y_test)))\n",
    "print('F1 Score: ' + str(f1_score(Y_test, pipeline.predict(testdata[[\"veil-type\", \"veil-color\"]]))))\n",
    "print('Log Loss: ' + str(log_loss(Y_test, pipeline.predict(testdata[[\"veil-type\", \"veil-color\"]]))))"
   ]
  },
  {
   "cell_type": "markdown",
   "metadata": {},
   "source": [
    "Model 5: Ring Features"
   ]
  },
  {
   "cell_type": "code",
   "execution_count": 6,
   "metadata": {},
   "outputs": [
    {
     "name": "stdout",
     "output_type": "stream",
     "text": [
      "R2 Score: 0.8547387068201948\n",
      "F1 Score: 0.8947368421052632\n",
      "Log Loss: 5.235747702227824\n"
     ]
    }
   ],
   "source": [
    "#Train Model\n",
    "pipeline.fit(X=trainingdata[[\"ring-number\", \"ring-type\"]], y=y_test)\n",
    "\n",
    "#Test Model\n",
    "print('R2 Score: ' + str(pipeline.score(X=testdata[[\"ring-number\", \"ring-type\"]], y=Y_test)))\n",
    "print('F1 Score: ' + str(f1_score(Y_test, pipeline.predict(testdata[[\"ring-number\", \"ring-type\"]]))))\n",
    "print('Log Loss: ' + str(log_loss(Y_test, pipeline.predict(testdata[[\"ring-number\", \"ring-type\"]]))))"
   ]
  },
  {
   "cell_type": "markdown",
   "metadata": {},
   "source": [
    "Model 6: Odor"
   ]
  },
  {
   "cell_type": "code",
   "execution_count": 7,
   "metadata": {},
   "outputs": [
    {
     "name": "stdout",
     "output_type": "stream",
     "text": [
      "R2 Score: 0.983170947741364"
     ]
    },
    {
     "name": "stdout",
     "output_type": "stream",
     "text": [
      "\n",
      "F1 Score: 0.986703988803359\n",
      "Log Loss: 0.606580526477614\n"
     ]
    }
   ],
   "source": [
    "#Train Model\n",
    "pipeline.fit(X=trainingdata[[\"odor\"]], y=y_test)\n",
    "\n",
    "#Test Model\n",
    "print('R2 Score: ' + str(pipeline.score(X=testdata[[\"odor\"]], y=Y_test)))\n",
    "print('F1 Score: ' + str(f1_score(Y_test, pipeline.predict(testdata[[\"odor\"]]))))\n",
    "print('Log Loss: ' + str(log_loss(Y_test, pipeline.predict(testdata[[\"odor\"]]))))"
   ]
  },
  {
   "cell_type": "markdown",
   "metadata": {},
   "source": [
    "Model 7: Bruises"
   ]
  },
  {
   "cell_type": "code",
   "execution_count": 8,
   "metadata": {},
   "outputs": [
    {
     "name": "stdout",
     "output_type": "stream",
     "text": [
      "R2 Score: 0.70859167404783"
     ]
    },
    {
     "name": "stdout",
     "output_type": "stream",
     "text": [
      "\n",
      "F1 Score: 0.753558052434457\n",
      "Log Loss: 10.503420695322891\n"
     ]
    }
   ],
   "source": [
    "#Train Model\n",
    "pipeline.fit(X=trainingdata[[\"bruises\"]], y=y_test)\n",
    "\n",
    "#Test Model\n",
    "print('R2 Score: ' + str(pipeline.score(X=testdata[[\"bruises\"]], y=Y_test)))\n",
    "print('F1 Score: ' + str(f1_score(Y_test, pipeline.predict(testdata[[\"bruises\"]]))))\n",
    "print('Log Loss: ' + str(log_loss(Y_test, pipeline.predict(testdata[[\"bruises\"]]))))"
   ]
  },
  {
   "cell_type": "markdown",
   "metadata": {},
   "source": [
    "Model 8: Spore Color"
   ]
  },
  {
   "cell_type": "code",
   "execution_count": 9,
   "metadata": {},
   "outputs": [
    {
     "name": "stdout",
     "output_type": "stream",
     "text": [
      "R2 Score: 0.9069973427812223\n"
     ]
    },
    {
     "name": "stdout",
     "output_type": "stream",
     "text": [
      "F1 Score: 0.9306930693069307\n",
      "Log Loss: 3.352155541060497\n"
     ]
    }
   ],
   "source": [
    "#Train Model\n",
    "pipeline.fit(X=trainingdata[[\"spore-print-color\"]], y=y_test)\n",
    "\n",
    "#Test Model\n",
    "print('R2 Score: ' + str(pipeline.score(X=testdata[[\"spore-print-color\"]], y=Y_test)))\n",
    "print('F1 Score: ' + str(f1_score(Y_test, pipeline.predict(testdata[[\"spore-print-color\"]]))))\n",
    "print('Log Loss: ' + str(log_loss(Y_test, pipeline.predict(testdata[[\"spore-print-color\"]]))))"
   ]
  },
  {
   "cell_type": "markdown",
   "metadata": {},
   "source": [
    "Model 9: Population"
   ]
  },
  {
   "cell_type": "code",
   "execution_count": 10,
   "metadata": {},
   "outputs": [
    {
     "name": "stdout",
     "output_type": "stream",
     "text": [
      "R2 Score: 0.6324180690876883\n",
      "F1 Score: 0.6999276934201012\n",
      "Log Loss: 13.248995709905774\n"
     ]
    }
   ],
   "source": [
    "#Train Model\n",
    "pipeline.fit(X=trainingdata[[\"population\"]], y=y_test)\n",
    "\n",
    "#Test Model\n",
    "print('R2 Score: ' + str(pipeline.score(X=testdata[[\"population\"]], y=Y_test)))\n",
    "print('F1 Score: ' + str(f1_score(Y_test, pipeline.predict(testdata[[\"population\"]]))))\n",
    "print('Log Loss: ' + str(log_loss(Y_test, pipeline.predict(testdata[[\"population\"]]))))"
   ]
  },
  {
   "cell_type": "markdown",
   "metadata": {},
   "source": [
    "Model 10: Habitat"
   ]
  },
  {
   "cell_type": "code",
   "execution_count": 11,
   "metadata": {},
   "outputs": [
    {
     "name": "stdout",
     "output_type": "stream",
     "text": [
      "R2 Score: 0.6944198405668733\n",
      "F1 Score: 0.7912885662431942\n",
      "Log Loss: 11.014225349198776\n"
     ]
    }
   ],
   "source": [
    "#Train Model\n",
    "pipeline.fit(X=trainingdata[[\"habitat\"]], y=y_test)\n",
    "\n",
    "#Test Model\n",
    "print('R2 Score: ' + str(pipeline.score(X=testdata[[\"habitat\"]], y=Y_test)))\n",
    "print('F1 Score: ' + str(f1_score(Y_test, pipeline.predict(testdata[[\"habitat\"]]))))\n",
    "print('Log Loss: ' + str(log_loss(Y_test, pipeline.predict(testdata[[\"habitat\"]]))))"
   ]
  },
  {
   "cell_type": "markdown",
   "metadata": {},
   "source": [
    "Combination of Features"
   ]
  },
  {
   "cell_type": "markdown",
   "metadata": {},
   "source": [
    "Model 11: Cap and Gill Features"
   ]
  },
  {
   "cell_type": "code",
   "execution_count": 12,
   "metadata": {},
   "outputs": [
    {
     "name": "stdout",
     "output_type": "stream",
     "text": [
      "R2 Score: 0.9229406554472985\n",
      "F1 Score: 0.9370021723388848\n",
      "Log Loss: 2.777500305450126\n"
     ]
    }
   ],
   "source": [
    "#Train Model\n",
    "pipeline.fit(X=trainingdata[[\"cap-shape\", \"cap-surface\", 'cap-color', \"gill-attachment\", \"gill-spacing\", 'gill-size', 'gill-color']], y=y_test)\n",
    "#Test Model\n",
    "print('R2 Score: ' + str(pipeline.score(X=testdata[[\"cap-shape\", \"cap-surface\", 'cap-color', \"gill-attachment\", \"gill-spacing\", 'gill-size', 'gill-color']], y=Y_test)))\n",
    "print('F1 Score: ' + str(f1_score(Y_test, pipeline.predict(testdata[[\"cap-shape\", \"cap-surface\", 'cap-color', \"gill-attachment\", \"gill-spacing\", 'gill-size', 'gill-color']]))))\n",
    "print('Log Loss: ' + str(log_loss(Y_test, pipeline.predict(testdata[[\"cap-shape\", \"cap-surface\", 'cap-color', \"gill-attachment\", \"gill-spacing\", 'gill-size', 'gill-color']]))))"
   ]
  },
  {
   "cell_type": "markdown",
   "metadata": {},
   "source": [
    "Model 12: Gill and Stalk Features"
   ]
  },
  {
   "cell_type": "code",
   "execution_count": 13,
   "metadata": {},
   "outputs": [
    {
     "name": "stdout",
     "output_type": "stream",
     "text": [
      "R2 Score: 0.9459698848538529\n",
      "F1 Score: 0.9569513055751588\n",
      "Log Loss: 1.9474427429018129\n"
     ]
    }
   ],
   "source": [
    "#Train Model\n",
    "pipeline.fit(X=trainingdata[[\"gill-attachment\", \"gill-spacing\", 'gill-size', 'gill-color', \"stalk-shape\", \"stalk-root\", 'stalk-surface-above-ring', 'stalk-surface-below-ring', 'stalk-color-above-ring', 'stalk-color-below-ring']], y=y_test)\n",
    "#Test Model\n",
    "print('R2 Score: ' + str(pipeline.score(X=testdata[[\"gill-attachment\", \"gill-spacing\", 'gill-size', 'gill-color', \"stalk-shape\", \"stalk-root\", 'stalk-surface-above-ring', 'stalk-surface-below-ring', 'stalk-color-above-ring', 'stalk-color-below-ring']], y=Y_test)))\n",
    "print('F1 Score: ' + str(f1_score(Y_test, pipeline.predict(testdata[[\"gill-attachment\", \"gill-spacing\", 'gill-size', 'gill-color', \"stalk-shape\", \"stalk-root\", 'stalk-surface-above-ring', 'stalk-surface-below-ring', 'stalk-color-above-ring', 'stalk-color-below-ring']]))))\n",
    "print('Log Loss: ' + str(log_loss(Y_test, pipeline.predict(testdata[[\"gill-attachment\", \"gill-spacing\", 'gill-size', 'gill-color', \"stalk-shape\", \"stalk-root\", 'stalk-surface-above-ring', 'stalk-surface-below-ring', 'stalk-color-above-ring', 'stalk-color-below-ring']]))))"
   ]
  },
  {
   "cell_type": "markdown",
   "metadata": {},
   "source": [
    "Model 13: Stalk and Cap Features"
   ]
  },
  {
   "cell_type": "code",
   "execution_count": 14,
   "metadata": {},
   "outputs": [
    {
     "name": "stdout",
     "output_type": "stream",
     "text": [
      "R2 Score: 0.978742249778565\n",
      "F1 Score: 0.9828571428571429\n",
      "Log Loss: 0.766206980813828\n"
     ]
    }
   ],
   "source": [
    "#Train Model\n",
    "pipeline.fit(X=trainingdata[[\"stalk-shape\", \"stalk-root\", 'stalk-surface-above-ring', 'stalk-surface-below-ring', 'stalk-color-above-ring', 'stalk-color-below-ring', \"cap-shape\", \"cap-surface\", 'cap-color']], y=y_test)\n",
    "#Test Model\n",
    "print('R2 Score: ' + str(pipeline.score(X=testdata[[\"stalk-shape\", \"stalk-root\", 'stalk-surface-above-ring', 'stalk-surface-below-ring', 'stalk-color-above-ring', 'stalk-color-below-ring', \"cap-shape\", \"cap-surface\", 'cap-color']], y=Y_test)))\n",
    "print('F1 Score: ' + str(f1_score(Y_test, pipeline.predict(testdata[[\"stalk-shape\", \"stalk-root\", 'stalk-surface-above-ring', 'stalk-surface-below-ring', 'stalk-color-above-ring', 'stalk-color-below-ring', \"cap-shape\", \"cap-surface\", 'cap-color']]))))\n",
    "print('Log Loss: ' + str(log_loss(Y_test, pipeline.predict(testdata[[\"stalk-shape\", \"stalk-root\", 'stalk-surface-above-ring', 'stalk-surface-below-ring', 'stalk-color-above-ring', 'stalk-color-below-ring', \"cap-shape\", \"cap-surface\", 'cap-color']]))))"
   ]
  },
  {
   "cell_type": "markdown",
   "metadata": {},
   "source": [
    "Model 14: Veil and Ring Features"
   ]
  },
  {
   "cell_type": "code",
   "execution_count": 15,
   "metadata": {},
   "outputs": [
    {
     "name": "stdout",
     "output_type": "stream",
     "text": [
      "R2 Score: 0.8547387068201948\n",
      "F1 Score: 0.8947368421052632\n",
      "Log Loss: 5.235747702227824\n"
     ]
    }
   ],
   "source": [
    "pipeline.fit(X=trainingdata[[\"veil-type\", \"veil-color\", \"ring-number\", \"ring-type\"]], y=y_test)\n",
    "\n",
    "#Test Model\n",
    "print('R2 Score: ' + str(pipeline.score(X=testdata[[\"veil-type\", \"veil-color\", \"ring-number\", \"ring-type\"]], y=Y_test)))\n",
    "print('F1 Score: ' + str(f1_score(Y_test, pipeline.predict(testdata[[\"veil-type\", \"veil-color\", \"ring-number\", \"ring-type\"]]))))\n",
    "print('Log Loss: ' + str(log_loss(Y_test, pipeline.predict(testdata[[\"veil-type\", \"veil-color\", \"ring-number\", \"ring-type\"]]))))"
   ]
  },
  {
   "cell_type": "markdown",
   "metadata": {},
   "source": [
    "Model 15: Top 3 Best Individual Features"
   ]
  },
  {
   "cell_type": "code",
   "execution_count": 16,
   "metadata": {},
   "outputs": [
    {
     "name": "stdout",
     "output_type": "stream",
     "text": [
      "R2 Score: 0.995571302037201\n",
      "F1 Score: 0.99644128113879\n",
      "Log Loss: 0.15962645433621434\n"
     ]
    }
   ],
   "source": [
    "pipeline.fit(X=trainingdata[[\"stalk-shape\", \"stalk-root\", 'stalk-surface-above-ring', 'stalk-surface-below-ring', 'stalk-color-above-ring', 'stalk-color-below-ring', \"spore-print-color\", 'odor']], y=y_test)\n",
    "\n",
    "#Test Model\n",
    "print('R2 Score: ' + str(pipeline.score(X=testdata[[\"stalk-shape\", \"stalk-root\", 'stalk-surface-above-ring', 'stalk-surface-below-ring', 'stalk-color-above-ring', 'stalk-color-below-ring', \"spore-print-color\", 'odor']], y=Y_test)))\n",
    "print('F1 Score: ' + str(f1_score(Y_test, pipeline.predict(testdata[[\"stalk-shape\", \"stalk-root\", 'stalk-surface-above-ring', 'stalk-surface-below-ring', 'stalk-color-above-ring', 'stalk-color-below-ring', \"spore-print-color\", 'odor']]))))\n",
    "print('Log Loss: ' + str(log_loss(Y_test, pipeline.predict(testdata[[\"stalk-shape\", \"stalk-root\", 'stalk-surface-above-ring', 'stalk-surface-below-ring', 'stalk-color-above-ring', 'stalk-color-below-ring', \"spore-print-color\", 'odor']]))))"
   ]
  },
  {
   "cell_type": "markdown",
   "metadata": {},
   "source": [
    "Model 16: Physical Mushroom Characteristics"
   ]
  },
  {
   "cell_type": "code",
   "execution_count": 17,
   "metadata": {},
   "outputs": [
    {
     "name": "stdout",
     "output_type": "stream",
     "text": [
      "R2 Score: 0.9946855624446412\n",
      "F1 Score: 0.9957386363636364\n",
      "Log Loss: 0.19155174520345716\n"
     ]
    }
   ],
   "source": [
    "pipeline.fit(X=trainingdata[['cap-shape', 'cap-surface', 'cap-color', 'bruises', 'odor',\n",
    "       'gill-attachment', 'gill-spacing', 'gill-size', 'gill-color',\n",
    "       'stalk-shape', 'stalk-root', 'stalk-surface-above-ring',\n",
    "       'stalk-surface-below-ring', 'stalk-color-above-ring',\n",
    "       'stalk-color-below-ring', 'veil-type', 'veil-color', 'ring-number',\n",
    "       'ring-type']], y=y_test)\n",
    "\n",
    "#Test Model\n",
    "print('R2 Score: ' + str(pipeline.score(X=testdata[['cap-shape', 'cap-surface', 'cap-color', 'bruises', 'odor',\n",
    "       'gill-attachment', 'gill-spacing', 'gill-size', 'gill-color',\n",
    "       'stalk-shape', 'stalk-root', 'stalk-surface-above-ring',\n",
    "       'stalk-surface-below-ring', 'stalk-color-above-ring',\n",
    "       'stalk-color-below-ring', 'veil-type', 'veil-color', 'ring-number',\n",
    "       'ring-type']], y=Y_test)))\n",
    "print('F1 Score: ' + str(f1_score(Y_test, pipeline.predict(testdata[['cap-shape', 'cap-surface', 'cap-color', 'bruises', 'odor',\n",
    "       'gill-attachment', 'gill-spacing', 'gill-size', 'gill-color',\n",
    "       'stalk-shape', 'stalk-root', 'stalk-surface-above-ring',\n",
    "       'stalk-surface-below-ring', 'stalk-color-above-ring',\n",
    "       'stalk-color-below-ring', 'veil-type', 'veil-color', 'ring-number',\n",
    "       'ring-type']]))))\n",
    "print('Log Loss: ' + str(log_loss(Y_test, pipeline.predict(testdata[['cap-shape', 'cap-surface', 'cap-color', 'bruises', 'odor',\n",
    "       'gill-attachment', 'gill-spacing', 'gill-size', 'gill-color',\n",
    "       'stalk-shape', 'stalk-root', 'stalk-surface-above-ring',\n",
    "       'stalk-surface-below-ring', 'stalk-color-above-ring',\n",
    "       'stalk-color-below-ring', 'veil-type', 'veil-color', 'ring-number',\n",
    "       'ring-type']]))))"
   ]
  },
  {
   "cell_type": "markdown",
   "metadata": {},
   "source": [
    "Model 17: Non Physical Mushroom Characteristics"
   ]
  },
  {
   "cell_type": "code",
   "execution_count": 18,
   "metadata": {},
   "outputs": [
    {
     "name": "stdout",
     "output_type": "stream",
     "text": [
      "R2 Score: 0.941541186891054\n",
      "F1 Score: 0.9547945205479452\n",
      "Log Loss: 2.107069197238027\n"
     ]
    }
   ],
   "source": [
    "#Train Model\n",
    "pipeline.fit(X=trainingdata[[\"spore-print-color\", 'population', \"habitat\"]], y=y_test)\n",
    "\n",
    "#Test Model\n",
    "print('R2 Score: ' + str(pipeline.score(X=testdata[[\"spore-print-color\", 'population', \"habitat\"]], y=Y_test)))\n",
    "print('F1 Score: ' + str(f1_score(Y_test, pipeline.predict(testdata[[\"spore-print-color\", 'population', \"habitat\"]]))))\n",
    "print('Log Loss: ' + str(log_loss(Y_test, pipeline.predict(testdata[[\"spore-print-color\", 'population', \"habitat\"]]))))"
   ]
  },
  {
   "cell_type": "markdown",
   "metadata": {},
   "source": [
    "Model 18: All Features"
   ]
  },
  {
   "cell_type": "code",
   "execution_count": 19,
   "metadata": {},
   "outputs": [
    {
     "name": "stdout",
     "output_type": "stream",
     "text": [
      "R2 Score: 0.995571302037201\n",
      "F1 Score: 0.9964513839602555\n",
      "Log Loss: 0.15962645433621434\n"
     ]
    }
   ],
   "source": [
    "#Train Model\n",
    "pipeline.fit(X=trainingdata[['cap-shape', 'cap-surface', 'cap-color', 'bruises', 'odor',\n",
    "       'gill-attachment', 'gill-spacing', 'gill-size', 'gill-color',\n",
    "       'stalk-shape', 'stalk-root', 'stalk-surface-above-ring',\n",
    "       'stalk-surface-below-ring', 'stalk-color-above-ring',\n",
    "       'stalk-color-below-ring', 'veil-type', 'veil-color', 'ring-number',\n",
    "       'ring-type', 'spore-print-color', 'population', 'habitat']], y=y_test)\n",
    "#Test Model\n",
    "print('R2 Score: ' + str(pipeline.score(X=testdata[['cap-shape', 'cap-surface', 'cap-color', 'bruises', 'odor',\n",
    "       'gill-attachment', 'gill-spacing', 'gill-size', 'gill-color',\n",
    "       'stalk-shape', 'stalk-root', 'stalk-surface-above-ring',\n",
    "       'stalk-surface-below-ring', 'stalk-color-above-ring',\n",
    "       'stalk-color-below-ring', 'veil-type', 'veil-color', 'ring-number',\n",
    "       'ring-type', 'spore-print-color', 'population', 'habitat']], y=Y_test)))\n",
    "print('F1 Score: ' + str(f1_score(Y_test, pipeline.predict(testdata[['cap-shape', 'cap-surface', 'cap-color', 'bruises', 'odor',\n",
    "       'gill-attachment', 'gill-spacing', 'gill-size', 'gill-color',\n",
    "       'stalk-shape', 'stalk-root', 'stalk-surface-above-ring',\n",
    "       'stalk-surface-below-ring', 'stalk-color-above-ring',\n",
    "       'stalk-color-below-ring', 'veil-type', 'veil-color', 'ring-number',\n",
    "       'ring-type', 'spore-print-color', 'population', 'habitat']]))))\n",
    "print('Log Loss: ' + str(log_loss(Y_test, pipeline.predict(testdata[['cap-shape', 'cap-surface', 'cap-color', 'bruises', 'odor',\n",
    "       'gill-attachment', 'gill-spacing', 'gill-size', 'gill-color',\n",
    "       'stalk-shape', 'stalk-root', 'stalk-surface-above-ring',\n",
    "       'stalk-surface-below-ring', 'stalk-color-above-ring',\n",
    "       'stalk-color-below-ring', 'veil-type', 'veil-color', 'ring-number',\n",
    "       'ring-type', 'spore-print-color', 'population', 'habitat']]))))"
   ]
  }
 ],
 "metadata": {
  "kernelspec": {
   "display_name": "Python 3",
   "language": "python",
   "name": "python3"
  },
  "language_info": {
   "codemirror_mode": {
    "name": "ipython",
    "version": 3
   },
   "file_extension": ".py",
   "mimetype": "text/x-python",
   "name": "python",
   "nbconvert_exporter": "python",
   "pygments_lexer": "ipython3",
   "version": "3.12.1"
  }
 },
 "nbformat": 4,
 "nbformat_minor": 2
}
